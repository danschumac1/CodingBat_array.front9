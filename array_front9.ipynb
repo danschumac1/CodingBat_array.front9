{
 "cells": [
  {
   "cell_type": "code",
   "execution_count": null,
   "id": "bebb511e",
   "metadata": {},
   "outputs": [],
   "source": [
    "Warmup-2 > array_front9"
   ]
  },
  {
   "cell_type": "markdown",
   "id": "811162d3",
   "metadata": {},
   "source": [
    "Given an array of ints, return True if one of the first 4 elements in the array is a 9. The array length may be less than 4.\n",
    "\n",
    "\n",
    "array_front9([1, 2, 9, 3, 4]) → True\n",
    "array_front9([1, 2, 3, 4, 9]) → False\n",
    "array_front9([1, 2, 3, 4, 5]) → False"
   ]
  },
  {
   "cell_type": "code",
   "execution_count": null,
   "id": "a596f7d6",
   "metadata": {},
   "outputs": [],
   "source": [
    "def array_front9(nums):\n",
    "  check=False\n",
    "  \n",
    "  if len(nums)<4:\n",
    "    if 9 in nums:\n",
    "      return True\n",
    "    else:\n",
    "      return False\n",
    "    \n",
    "  else:\n",
    "    if 9 in nums[0:4]:\n",
    "      return True\n",
    "    else:\n",
    "      return False"
   ]
  }
 ],
 "metadata": {
  "kernelspec": {
   "display_name": "Python 3 (ipykernel)",
   "language": "python",
   "name": "python3"
  },
  "language_info": {
   "codemirror_mode": {
    "name": "ipython",
    "version": 3
   },
   "file_extension": ".py",
   "mimetype": "text/x-python",
   "name": "python",
   "nbconvert_exporter": "python",
   "pygments_lexer": "ipython3",
   "version": "3.9.12"
  }
 },
 "nbformat": 4,
 "nbformat_minor": 5
}
